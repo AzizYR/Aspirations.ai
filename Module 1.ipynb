{
 "cells": [
  {
   "cell_type": "code",
   "execution_count": 1,
   "metadata": {},
   "outputs": [],
   "source": [
    "import pandas as pd"
   ]
  },
  {
   "cell_type": "code",
   "execution_count": 2,
   "metadata": {},
   "outputs": [],
   "source": [
    "df = pd.read_csv('E:/MSFT.csv')"
   ]
  },
  {
   "cell_type": "code",
   "execution_count": 3,
   "metadata": {},
   "outputs": [
    {
     "data": {
      "text/html": [
       "<div>\n",
       "<style scoped>\n",
       "    .dataframe tbody tr th:only-of-type {\n",
       "        vertical-align: middle;\n",
       "    }\n",
       "\n",
       "    .dataframe tbody tr th {\n",
       "        vertical-align: top;\n",
       "    }\n",
       "\n",
       "    .dataframe thead th {\n",
       "        text-align: right;\n",
       "    }\n",
       "</style>\n",
       "<table border=\"1\" class=\"dataframe\">\n",
       "  <thead>\n",
       "    <tr style=\"text-align: right;\">\n",
       "      <th></th>\n",
       "      <th>Date</th>\n",
       "      <th>Close Price</th>\n",
       "      <th>Open Price</th>\n",
       "      <th>High Price</th>\n",
       "      <th>Low Price</th>\n",
       "      <th>Total Traded Quantity</th>\n",
       "    </tr>\n",
       "  </thead>\n",
       "  <tbody>\n",
       "    <tr>\n",
       "      <th>0</th>\n",
       "      <td>Oct 24, 2019</td>\n",
       "      <td>139.94</td>\n",
       "      <td>139.14</td>\n",
       "      <td>140.40</td>\n",
       "      <td>138.69</td>\n",
       "      <td>37.28M</td>\n",
       "    </tr>\n",
       "    <tr>\n",
       "      <th>1</th>\n",
       "      <td>Oct 23, 2019</td>\n",
       "      <td>137.24</td>\n",
       "      <td>136.88</td>\n",
       "      <td>137.45</td>\n",
       "      <td>135.61</td>\n",
       "      <td>31.38M</td>\n",
       "    </tr>\n",
       "    <tr>\n",
       "      <th>2</th>\n",
       "      <td>Oct 22, 2019</td>\n",
       "      <td>136.37</td>\n",
       "      <td>138.97</td>\n",
       "      <td>140.01</td>\n",
       "      <td>136.26</td>\n",
       "      <td>27.94M</td>\n",
       "    </tr>\n",
       "    <tr>\n",
       "      <th>3</th>\n",
       "      <td>Oct 21, 2019</td>\n",
       "      <td>138.43</td>\n",
       "      <td>138.45</td>\n",
       "      <td>138.50</td>\n",
       "      <td>137.01</td>\n",
       "      <td>20.72M</td>\n",
       "    </tr>\n",
       "    <tr>\n",
       "      <th>4</th>\n",
       "      <td>Oct 18, 2019</td>\n",
       "      <td>137.41</td>\n",
       "      <td>139.76</td>\n",
       "      <td>140.00</td>\n",
       "      <td>136.56</td>\n",
       "      <td>32.28M</td>\n",
       "    </tr>\n",
       "  </tbody>\n",
       "</table>\n",
       "</div>"
      ],
      "text/plain": [
       "           Date  Close Price  Open Price  High Price  Low Price  \\\n",
       "0  Oct 24, 2019       139.94      139.14      140.40     138.69   \n",
       "1  Oct 23, 2019       137.24      136.88      137.45     135.61   \n",
       "2  Oct 22, 2019       136.37      138.97      140.01     136.26   \n",
       "3  Oct 21, 2019       138.43      138.45      138.50     137.01   \n",
       "4  Oct 18, 2019       137.41      139.76      140.00     136.56   \n",
       "\n",
       "  Total Traded Quantity  \n",
       "0                37.28M  \n",
       "1                31.38M  \n",
       "2                27.94M  \n",
       "3                20.72M  \n",
       "4                32.28M  "
      ]
     },
     "execution_count": 3,
     "metadata": {},
     "output_type": "execute_result"
    }
   ],
   "source": [
    "df.head(5)"
   ]
  },
  {
   "cell_type": "code",
   "execution_count": 4,
   "metadata": {},
   "outputs": [
    {
     "data": {
      "text/html": [
       "<div>\n",
       "<style scoped>\n",
       "    .dataframe tbody tr th:only-of-type {\n",
       "        vertical-align: middle;\n",
       "    }\n",
       "\n",
       "    .dataframe tbody tr th {\n",
       "        vertical-align: top;\n",
       "    }\n",
       "\n",
       "    .dataframe thead th {\n",
       "        text-align: right;\n",
       "    }\n",
       "</style>\n",
       "<table border=\"1\" class=\"dataframe\">\n",
       "  <thead>\n",
       "    <tr style=\"text-align: right;\">\n",
       "      <th></th>\n",
       "      <th>Close Price</th>\n",
       "      <th>Open Price</th>\n",
       "      <th>High Price</th>\n",
       "      <th>Low Price</th>\n",
       "    </tr>\n",
       "  </thead>\n",
       "  <tbody>\n",
       "    <tr>\n",
       "      <th>count</th>\n",
       "      <td>503.000000</td>\n",
       "      <td>503.000000</td>\n",
       "      <td>503.000000</td>\n",
       "      <td>503.000000</td>\n",
       "    </tr>\n",
       "    <tr>\n",
       "      <th>mean</th>\n",
       "      <td>109.665805</td>\n",
       "      <td>109.707575</td>\n",
       "      <td>110.626839</td>\n",
       "      <td>108.608628</td>\n",
       "    </tr>\n",
       "    <tr>\n",
       "      <th>std</th>\n",
       "      <td>17.381956</td>\n",
       "      <td>17.414436</td>\n",
       "      <td>17.427872</td>\n",
       "      <td>17.310675</td>\n",
       "    </tr>\n",
       "    <tr>\n",
       "      <th>min</th>\n",
       "      <td>78.630000</td>\n",
       "      <td>78.580000</td>\n",
       "      <td>79.100000</td>\n",
       "      <td>78.010000</td>\n",
       "    </tr>\n",
       "    <tr>\n",
       "      <th>25%</th>\n",
       "      <td>95.385000</td>\n",
       "      <td>95.795000</td>\n",
       "      <td>96.505000</td>\n",
       "      <td>94.125000</td>\n",
       "    </tr>\n",
       "    <tr>\n",
       "      <th>50%</th>\n",
       "      <td>107.220000</td>\n",
       "      <td>107.460000</td>\n",
       "      <td>108.300000</td>\n",
       "      <td>105.960000</td>\n",
       "    </tr>\n",
       "    <tr>\n",
       "      <th>75%</th>\n",
       "      <td>124.245000</td>\n",
       "      <td>124.105000</td>\n",
       "      <td>125.470000</td>\n",
       "      <td>123.445000</td>\n",
       "    </tr>\n",
       "    <tr>\n",
       "      <th>max</th>\n",
       "      <td>141.570000</td>\n",
       "      <td>141.500000</td>\n",
       "      <td>142.370000</td>\n",
       "      <td>140.300000</td>\n",
       "    </tr>\n",
       "  </tbody>\n",
       "</table>\n",
       "</div>"
      ],
      "text/plain": [
       "       Close Price  Open Price  High Price   Low Price\n",
       "count   503.000000  503.000000  503.000000  503.000000\n",
       "mean    109.665805  109.707575  110.626839  108.608628\n",
       "std      17.381956   17.414436   17.427872   17.310675\n",
       "min      78.630000   78.580000   79.100000   78.010000\n",
       "25%      95.385000   95.795000   96.505000   94.125000\n",
       "50%     107.220000  107.460000  108.300000  105.960000\n",
       "75%     124.245000  124.105000  125.470000  123.445000\n",
       "max     141.570000  141.500000  142.370000  140.300000"
      ]
     },
     "execution_count": 4,
     "metadata": {},
     "output_type": "execute_result"
    }
   ],
   "source": [
    "df.describe()"
   ]
  },
  {
   "cell_type": "code",
   "execution_count": 5,
   "metadata": {},
   "outputs": [
    {
     "name": "stdout",
     "output_type": "stream",
     "text": [
      "Maximum: 141.57\n",
      "Minimum: 132.21\n",
      "Mean: 137.44722222222225\n"
     ]
    }
   ],
   "source": [
    "# 1.2 Calculate the maximum, minimum and mean price for the last 90 days (CLOSE PRICE)\n",
    "print('Maximum:',df['Close Price'].head(90).max())\n",
    "print('Minimum:',df['Close Price'].head(90).min())\n",
    "print('Mean:',df['Close Price'].head(90).mean())"
   ]
  },
  {
   "cell_type": "code",
   "execution_count": 7,
   "metadata": {},
   "outputs": [
    {
     "data": {
      "text/plain": [
       "Date                      object\n",
       "Close Price              float64\n",
       "Open Price               float64\n",
       "High Price               float64\n",
       "Low Price                float64\n",
       "Total Traded Quantity     object\n",
       "dtype: object"
      ]
     },
     "execution_count": 7,
     "metadata": {},
     "output_type": "execute_result"
    }
   ],
   "source": [
    "# 1.3 Analyze data types and convert 'Date' column to 'datetime64' datatype\n",
    "df.dtypes"
   ]
  },
  {
   "cell_type": "code",
   "execution_count": 8,
   "metadata": {},
   "outputs": [
    {
     "data": {
      "text/plain": [
       "Date                     datetime64[ns]\n",
       "Close Price                     float64\n",
       "Open Price                      float64\n",
       "High Price                      float64\n",
       "Low Price                       float64\n",
       "Total Traded Quantity            object\n",
       "dtype: object"
      ]
     },
     "execution_count": 8,
     "metadata": {},
     "output_type": "execute_result"
    }
   ],
   "source": [
    "df.Date = df.Date.astype('datetime64')\n",
    "df.dtypes"
   ]
  },
  {
   "cell_type": "code",
   "execution_count": 9,
   "metadata": {},
   "outputs": [
    {
     "data": {
      "text/plain": [
       "Timedelta('729 days 00:00:00')"
      ]
     },
     "execution_count": 9,
     "metadata": {},
     "output_type": "execute_result"
    }
   ],
   "source": [
    "# Subtracting the minimum value from the maximum value of 'Date'\n",
    "df.Date.max() - df.Date.min()"
   ]
  },
  {
   "cell_type": "code",
   "execution_count": 12,
   "metadata": {},
   "outputs": [],
   "source": [
    "df['Month'] = df['Date'].dt.month\n",
    "df['Year'] = df['Date'].dt.year"
   ]
  },
  {
   "cell_type": "code",
   "execution_count": 10,
   "metadata": {},
   "outputs": [],
   "source": [
    "df['TTQ'] = df['Total Traded Quantity'].str.replace('M','').astype('float').apply(lambda x: x * 10**6).astype('float')"
   ]
  },
  {
   "cell_type": "code",
   "execution_count": 13,
   "metadata": {},
   "outputs": [
    {
     "name": "stdout",
     "output_type": "stream",
     "text": [
      "[90.49082362501815, 103.86149290581538, 90.90014515321474, 107.64925325090599, 92.7009005421101, 115.30095099853432, 93.03613696675843, 123.2521827961954, 96.7352229420233, 126.27188096195314, 100.48313855974864, 131.76528925348862, 105.27748434299093, 137.97440076220352, 108.54960783454884, 136.07264453589704, 112.2831199028284, 138.20432452614244, 82.61399049968027, 108.1771080037949, 138.06973560543847, 83.68054749715586, 107.06279390733256, 84.64624522716547, 103.84759062556262]\n"
     ]
    }
   ],
   "source": [
    "# 1.4 Create a seperate array an calculate VWAP for each month\n",
    "gb = df.groupby(['Month','Year'])\n",
    "vwap = []\n",
    "for m,val in gb:\n",
    "    temp = 0\n",
    "    for ind,row in val.iterrows():\n",
    "        avg = (row['High Price'] + row['Low Price'] + row['Close Price'] ) /3\n",
    "\n",
    "        temp += avg * row['TTQ']\n",
    "    vwap.append(temp/val['TTQ'].sum())\n",
    "    \n",
    "\n",
    "print(vwap)"
   ]
  },
  {
   "cell_type": "code",
   "execution_count": 16,
   "metadata": {},
   "outputs": [
    {
     "name": "stdout",
     "output_type": "stream",
     "text": [
      "For last 7 days\n",
      "Average Price: 138.4985714285714\n",
      "Loss : 0.33473399330531933 %\n",
      "-------\n",
      "For last 14 days\n",
      "Average Price: 138.60142857142858\n",
      "Profit : 2.056592765460905 %\n",
      "-------\n",
      "For last 30 days\n",
      "Average Price: 138.293\n",
      "Profit : 1.9079522283716899 %\n",
      "-------\n",
      "For last 90 days\n",
      "Average Price: 137.44722222222225\n",
      "Profit : 3.132139435477928 %\n",
      "-------\n",
      "For last 180 days\n",
      "Average Price: 129.03877777777777\n",
      "Profit : 32.43115359136935 %\n",
      "-------\n",
      "For last 365 days\n",
      "Average Price: 117.27145205479452\n",
      "Profit : 43.79367036580354 %\n",
      "-------\n"
     ]
    }
   ],
   "source": [
    "# 1.5 Average price and Profit loss\n",
    "def calc_avg_price(n):\n",
    "    return df['Close Price'].head(n).mean()\n",
    "\n",
    "def profit_loss(n):\n",
    "    final = df.loc[0]['Close Price']\n",
    "    initial = df.loc[n-1]['Close Price']\n",
    "    if final > initial:\n",
    "        ans = \"Profit\"\n",
    "        value = (final-initial)/initial * 100\n",
    "    else:\n",
    "        ans = \"Loss\"\n",
    "        value = ((initial - final)/initial) * 100\n",
    "    return ans, value\n",
    "\n",
    "input_values = [7,14,30,90,180,365]\n",
    "for val in input_values:\n",
    "    print('For last',val,'days')\n",
    "    print('Average Price:',calc_avg_price(val))\n",
    "    ans, percent = profit_loss(val)\n",
    "    print(ans,':',percent,'%')\n",
    "    print('-------')"
   ]
  },
  {
   "cell_type": "code",
   "execution_count": 17,
   "metadata": {},
   "outputs": [
    {
     "data": {
      "text/html": [
       "<div>\n",
       "<style scoped>\n",
       "    .dataframe tbody tr th:only-of-type {\n",
       "        vertical-align: middle;\n",
       "    }\n",
       "\n",
       "    .dataframe tbody tr th {\n",
       "        vertical-align: top;\n",
       "    }\n",
       "\n",
       "    .dataframe thead th {\n",
       "        text-align: right;\n",
       "    }\n",
       "</style>\n",
       "<table border=\"1\" class=\"dataframe\">\n",
       "  <thead>\n",
       "    <tr style=\"text-align: right;\">\n",
       "      <th></th>\n",
       "      <th>Date</th>\n",
       "      <th>Close Price</th>\n",
       "      <th>Open Price</th>\n",
       "      <th>High Price</th>\n",
       "      <th>Low Price</th>\n",
       "      <th>Total Traded Quantity</th>\n",
       "      <th>TTQ</th>\n",
       "      <th>Month</th>\n",
       "      <th>Year</th>\n",
       "      <th>Day_Perc_Change</th>\n",
       "    </tr>\n",
       "  </thead>\n",
       "  <tbody>\n",
       "    <tr>\n",
       "      <th>0</th>\n",
       "      <td>2019-10-24</td>\n",
       "      <td>139.94</td>\n",
       "      <td>139.14</td>\n",
       "      <td>140.40</td>\n",
       "      <td>138.69</td>\n",
       "      <td>37.28M</td>\n",
       "      <td>37280000.0</td>\n",
       "      <td>10</td>\n",
       "      <td>2019</td>\n",
       "      <td>0.000000</td>\n",
       "    </tr>\n",
       "    <tr>\n",
       "      <th>1</th>\n",
       "      <td>2019-10-23</td>\n",
       "      <td>137.24</td>\n",
       "      <td>136.88</td>\n",
       "      <td>137.45</td>\n",
       "      <td>135.61</td>\n",
       "      <td>31.38M</td>\n",
       "      <td>31380000.0</td>\n",
       "      <td>10</td>\n",
       "      <td>2019</td>\n",
       "      <td>-0.019294</td>\n",
       "    </tr>\n",
       "    <tr>\n",
       "      <th>2</th>\n",
       "      <td>2019-10-22</td>\n",
       "      <td>136.37</td>\n",
       "      <td>138.97</td>\n",
       "      <td>140.01</td>\n",
       "      <td>136.26</td>\n",
       "      <td>27.94M</td>\n",
       "      <td>27940000.0</td>\n",
       "      <td>10</td>\n",
       "      <td>2019</td>\n",
       "      <td>-0.006339</td>\n",
       "    </tr>\n",
       "    <tr>\n",
       "      <th>3</th>\n",
       "      <td>2019-10-21</td>\n",
       "      <td>138.43</td>\n",
       "      <td>138.45</td>\n",
       "      <td>138.50</td>\n",
       "      <td>137.01</td>\n",
       "      <td>20.72M</td>\n",
       "      <td>20720000.0</td>\n",
       "      <td>10</td>\n",
       "      <td>2019</td>\n",
       "      <td>0.015106</td>\n",
       "    </tr>\n",
       "    <tr>\n",
       "      <th>4</th>\n",
       "      <td>2019-10-18</td>\n",
       "      <td>137.41</td>\n",
       "      <td>139.76</td>\n",
       "      <td>140.00</td>\n",
       "      <td>136.56</td>\n",
       "      <td>32.28M</td>\n",
       "      <td>32280000.0</td>\n",
       "      <td>10</td>\n",
       "      <td>2019</td>\n",
       "      <td>-0.007368</td>\n",
       "    </tr>\n",
       "  </tbody>\n",
       "</table>\n",
       "</div>"
      ],
      "text/plain": [
       "        Date  Close Price  Open Price  High Price  Low Price  \\\n",
       "0 2019-10-24       139.94      139.14      140.40     138.69   \n",
       "1 2019-10-23       137.24      136.88      137.45     135.61   \n",
       "2 2019-10-22       136.37      138.97      140.01     136.26   \n",
       "3 2019-10-21       138.43      138.45      138.50     137.01   \n",
       "4 2019-10-18       137.41      139.76      140.00     136.56   \n",
       "\n",
       "  Total Traded Quantity         TTQ  Month  Year  Day_Perc_Change  \n",
       "0                37.28M  37280000.0     10  2019         0.000000  \n",
       "1                31.38M  31380000.0     10  2019        -0.019294  \n",
       "2                27.94M  27940000.0     10  2019        -0.006339  \n",
       "3                20.72M  20720000.0     10  2019         0.015106  \n",
       "4                32.28M  32280000.0     10  2019        -0.007368  "
      ]
     },
     "execution_count": 17,
     "metadata": {},
     "output_type": "execute_result"
    }
   ],
   "source": [
    "# 1.6 add column percent change using pct_change()\n",
    "df['Day_Perc_Change'] = df['Close Price'].pct_change()\n",
    "df['Day_Perc_Change'].fillna(0,inplace = True)\n",
    "df.head()"
   ]
  },
  {
   "cell_type": "code",
   "execution_count": 18,
   "metadata": {},
   "outputs": [
    {
     "data": {
      "text/html": [
       "<div>\n",
       "<style scoped>\n",
       "    .dataframe tbody tr th:only-of-type {\n",
       "        vertical-align: middle;\n",
       "    }\n",
       "\n",
       "    .dataframe tbody tr th {\n",
       "        vertical-align: top;\n",
       "    }\n",
       "\n",
       "    .dataframe thead th {\n",
       "        text-align: right;\n",
       "    }\n",
       "</style>\n",
       "<table border=\"1\" class=\"dataframe\">\n",
       "  <thead>\n",
       "    <tr style=\"text-align: right;\">\n",
       "      <th></th>\n",
       "      <th>Date</th>\n",
       "      <th>Close Price</th>\n",
       "      <th>Open Price</th>\n",
       "      <th>High Price</th>\n",
       "      <th>Low Price</th>\n",
       "      <th>Total Traded Quantity</th>\n",
       "      <th>TTQ</th>\n",
       "      <th>Month</th>\n",
       "      <th>Year</th>\n",
       "      <th>Day_Perc_Change</th>\n",
       "      <th>Trend</th>\n",
       "    </tr>\n",
       "  </thead>\n",
       "  <tbody>\n",
       "    <tr>\n",
       "      <th>0</th>\n",
       "      <td>2019-10-24</td>\n",
       "      <td>139.94</td>\n",
       "      <td>139.14</td>\n",
       "      <td>140.40</td>\n",
       "      <td>138.69</td>\n",
       "      <td>37.28M</td>\n",
       "      <td>37280000.0</td>\n",
       "      <td>10</td>\n",
       "      <td>2019</td>\n",
       "      <td>0.000000</td>\n",
       "      <td>Slight or No change</td>\n",
       "    </tr>\n",
       "    <tr>\n",
       "      <th>1</th>\n",
       "      <td>2019-10-23</td>\n",
       "      <td>137.24</td>\n",
       "      <td>136.88</td>\n",
       "      <td>137.45</td>\n",
       "      <td>135.61</td>\n",
       "      <td>31.38M</td>\n",
       "      <td>31380000.0</td>\n",
       "      <td>10</td>\n",
       "      <td>2019</td>\n",
       "      <td>-0.019294</td>\n",
       "      <td>Slight or No change</td>\n",
       "    </tr>\n",
       "    <tr>\n",
       "      <th>2</th>\n",
       "      <td>2019-10-22</td>\n",
       "      <td>136.37</td>\n",
       "      <td>138.97</td>\n",
       "      <td>140.01</td>\n",
       "      <td>136.26</td>\n",
       "      <td>27.94M</td>\n",
       "      <td>27940000.0</td>\n",
       "      <td>10</td>\n",
       "      <td>2019</td>\n",
       "      <td>-0.006339</td>\n",
       "      <td>Slight or No change</td>\n",
       "    </tr>\n",
       "    <tr>\n",
       "      <th>3</th>\n",
       "      <td>2019-10-21</td>\n",
       "      <td>138.43</td>\n",
       "      <td>138.45</td>\n",
       "      <td>138.50</td>\n",
       "      <td>137.01</td>\n",
       "      <td>20.72M</td>\n",
       "      <td>20720000.0</td>\n",
       "      <td>10</td>\n",
       "      <td>2019</td>\n",
       "      <td>0.015106</td>\n",
       "      <td>Slight or No change</td>\n",
       "    </tr>\n",
       "    <tr>\n",
       "      <th>4</th>\n",
       "      <td>2019-10-18</td>\n",
       "      <td>137.41</td>\n",
       "      <td>139.76</td>\n",
       "      <td>140.00</td>\n",
       "      <td>136.56</td>\n",
       "      <td>32.28M</td>\n",
       "      <td>32280000.0</td>\n",
       "      <td>10</td>\n",
       "      <td>2019</td>\n",
       "      <td>-0.007368</td>\n",
       "      <td>Slight or No change</td>\n",
       "    </tr>\n",
       "  </tbody>\n",
       "</table>\n",
       "</div>"
      ],
      "text/plain": [
       "        Date  Close Price  Open Price  High Price  Low Price  \\\n",
       "0 2019-10-24       139.94      139.14      140.40     138.69   \n",
       "1 2019-10-23       137.24      136.88      137.45     135.61   \n",
       "2 2019-10-22       136.37      138.97      140.01     136.26   \n",
       "3 2019-10-21       138.43      138.45      138.50     137.01   \n",
       "4 2019-10-18       137.41      139.76      140.00     136.56   \n",
       "\n",
       "  Total Traded Quantity         TTQ  Month  Year  Day_Perc_Change  \\\n",
       "0                37.28M  37280000.0     10  2019         0.000000   \n",
       "1                31.38M  31380000.0     10  2019        -0.019294   \n",
       "2                27.94M  27940000.0     10  2019        -0.006339   \n",
       "3                20.72M  20720000.0     10  2019         0.015106   \n",
       "4                32.28M  32280000.0     10  2019        -0.007368   \n",
       "\n",
       "                 Trend  \n",
       "0  Slight or No change  \n",
       "1  Slight or No change  \n",
       "2  Slight or No change  \n",
       "3  Slight or No change  \n",
       "4  Slight or No change  "
      ]
     },
     "execution_count": 18,
     "metadata": {},
     "output_type": "execute_result"
    }
   ],
   "source": [
    "# 1.7 Add Trend column according to the given values\n",
    "def trend(x):\n",
    "    if x<=0.5 and x>-0.5:\n",
    "        return 'Slight or No change'\n",
    "    elif x>0.5 and x<=1:\n",
    "        return 'Slight positive'\n",
    "    elif x>-0.5 and x<=-1:\n",
    "        return 'Slight negative'\n",
    "    elif x>1 and x<=3:\n",
    "        return 'Positive'\n",
    "    elif x>-1 and x<=-3:\n",
    "        return 'Negative'\n",
    "    elif x>3 and x<=7:\n",
    "        return 'Among top gainers'\n",
    "    elif x>-3 and x<=-7:\n",
    "        return 'Among top losers'\n",
    "    elif x>7:\n",
    "        return 'Bull run'\n",
    "    elif x<-7:\n",
    "        return 'Bear Drop'\n",
    "\n",
    "df['Trend']=df['Day_Perc_Change'].map(lambda a: trend(a))\n",
    "df.head()"
   ]
  },
  {
   "cell_type": "code",
   "execution_count": 20,
   "metadata": {},
   "outputs": [
    {
     "name": "stdout",
     "output_type": "stream",
     "text": [
      "Slight or No change\n",
      "Mean: 28324174.950298212\n",
      "Median 25770000.0\n"
     ]
    }
   ],
   "source": [
    "# 1.8 Calc average and median for groups by Trend\n",
    "gb_trend = df.groupby('Trend')\n",
    "df['TTQ'].astype('int')\n",
    "for grp,val in gb_trend:\n",
    "    print(grp)\n",
    "    print('Mean:',val['TTQ'].mean())\n",
    "    print('Median',val['TTQ'].median())"
   ]
  },
  {
   "cell_type": "code",
   "execution_count": 23,
   "metadata": {},
   "outputs": [],
   "source": [
    "# 1.9 Save dataframe to csv\n",
    "df.to_csv('week2.csv',index = False)"
   ]
  },
  {
   "cell_type": "code",
   "execution_count": null,
   "metadata": {},
   "outputs": [],
   "source": []
  }
 ],
 "metadata": {
  "kernelspec": {
   "display_name": "Python 3",
   "language": "python",
   "name": "python3"
  },
  "language_info": {
   "codemirror_mode": {
    "name": "ipython",
    "version": 3
   },
   "file_extension": ".py",
   "mimetype": "text/x-python",
   "name": "python",
   "nbconvert_exporter": "python",
   "pygments_lexer": "ipython3",
   "version": "3.7.2"
  }
 },
 "nbformat": 4,
 "nbformat_minor": 4
}
